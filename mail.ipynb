{
 "cells": [
  {
   "cell_type": "code",
   "execution_count": 1,
   "metadata": {},
   "outputs": [],
   "source": [
    "import os\n",
    "from dotenv import load_dotenv\n",
    "from mail_helper import *\n",
    "from helper_functions import *\n",
    "\n",
    "load_dotenv()\n",
    "YAHOO_MAIL_APP_PASSWORD = os.getenv(\"YAHOO_MAIL_APP_PASSWORD\")\n",
    "YAHOO_IMAP_USER = os.getenv(\"YAHOO_IMAP_USER\")\n",
    "YAHOO_IMAP_SERVER = os.getenv(\"YAHOO_IMAP_SERVER\")\n",
    "YAHOO_IMAP_PORT = os.getenv(\"YAHOO_IMAP_PORT\")"
   ]
  },
  {
   "cell_type": "code",
   "execution_count": 20,
   "metadata": {},
   "outputs": [
    {
     "data": {
      "text/plain": [
       "{'ID': '47',\n",
       " 'From': 'admissions@sicsr.ac.in',\n",
       " 'Subject': 'Last 5 days left to register for SNAP and be  part of MBA programs at\\r\\n SICSR, Pune',\n",
       " 'Date': '2021-11-22T14:07:20+00:00'}"
      ]
     },
     "execution_count": 20,
     "metadata": {},
     "output_type": "execute_result"
    }
   ],
   "source": [
    "email_data = fetch_emails(YAHOO_IMAP_SERVER, YAHOO_IMAP_USER, YAHOO_MAIL_APP_PASSWORD, limit=50)\n",
    "email_data['47']"
   ]
  },
  {
   "cell_type": "code",
   "execution_count": 3,
   "metadata": {},
   "outputs": [],
   "source": [
    "# email_ids_to_delete = ['50']\n",
    "# delete_specific_emails(YAHOO_IMAP_SERVER, YAHOO_IMAP_USER, YAHOO_MAIL_APP_PASSWORD, email_ids_to_delete)"
   ]
  },
  {
   "cell_type": "code",
   "execution_count": 4,
   "metadata": {},
   "outputs": [],
   "source": [
    "GEMINI_API_KEY = os.getenv('GEMINI_API_KEY')\n",
    "from langchain_google_genai import GoogleGenerativeAI\n",
    "llm = GoogleGenerativeAI(\n",
    "        model=\"gemini-1.0-pro\",\n",
    "        google_api_key=GEMINI_API_KEY)"
   ]
  },
  {
   "cell_type": "code",
   "execution_count": 5,
   "metadata": {},
   "outputs": [],
   "source": [
    "from langchain.tools import BaseTool\n",
    "\n",
    "class DeleteMail(BaseTool):\n",
    "    name = \"delete_mail\"\n",
    "    description = \"Use this tool to delete mail with a given id. It requires a mail id as input to delete mail. Use it to delete mails. Be sure syntax is correct.\"\n",
    "\n",
    "    def _run(self, email_id):\n",
    "      try:\n",
    "        return delete_specific_email(YAHOO_IMAP_SERVER, YAHOO_IMAP_USER, YAHOO_MAIL_APP_PASSWORD, email_id)\n",
    "      except Exception:\n",
    "        return \"This is not a vaild input. Try a different syntax.\"\n",
    "\n",
    "    def _arun(self, radius: int):\n",
    "        raise NotImplementedError(\"This tool does not support async\")\n",
    "\n",
    "delete_tool = DeleteMail()\n",
    "tools = [delete_tool]"
   ]
  },
  {
   "cell_type": "code",
   "execution_count": 16,
   "metadata": {},
   "outputs": [],
   "source": [
    "from langchain.agents import AgentExecutor, create_react_agent\n",
    "from langchain_core.prompts.prompt import PromptTemplate\n",
    "\n",
    "template_prompt = '''\n",
    "You are given the subject of a mail and it's email id in the following format:\n",
    "subject of the mail is :\"subject of the mail\"  and email_id is :\"a unique email_id associated with a given mail\"\n",
    "\n",
    "Based on this subject classify whether the given mail is a promotional mail or not given its subject. If it is a promotional mail, then delete it using the following tool, otherwise leave the mail as it is:\n",
    "{tools}\n",
    "\n",
    "Use the following format:\n",
    "\n",
    "Question: is the input subject, a subject of the promotional mail?\n",
    "Thought: you should think if this subject promotes a product or a service.\n",
    "Action: the action to take, should be either to delete using the tool [{tool_names}] or leave it as it is.\n",
    "Action Input: the input to the action\n",
    "Observation: the result of the action\n",
    "... (this Thought/Action/Action Input/Observation can repeat N times)\n",
    "Thought: I now know the final answer\n",
    "Final Answer: the final answer whether the mails was deleted or not\n",
    "\n",
    "Begin!\n",
    "\n",
    "Question:{input}\n",
    "Thought:{agent_scratchpad}'''\n",
    "\n",
    "prompt = PromptTemplate(\n",
    "    input_variables=['agent_scratchpad', 'input', 'tool_names', 'tools'], template=template_prompt\n",
    ")\n",
    "agent = create_react_agent(llm, tools, prompt)\n",
    "agent_executor = AgentExecutor(agent=agent, tools=tools, verbose=True)\n"
   ]
  },
  {
   "cell_type": "code",
   "execution_count": 17,
   "metadata": {},
   "outputs": [
    {
     "data": {
      "text/plain": [
       "'subject of the mail is :Only 5 days left! A promising management career awaits! Register now\\r\\n for SCMHRD and email_id is :47'"
      ]
     },
     "execution_count": 17,
     "metadata": {},
     "output_type": "execute_result"
    }
   ],
   "source": [
    "input_variable = f\"subject of the mail is :{email_data['47']['Subject']} and email_id is :{email_data['47']['ID']}\"\n",
    "input_variable"
   ]
  },
  {
   "cell_type": "code",
   "execution_count": 19,
   "metadata": {},
   "outputs": [
    {
     "data": {
      "text/plain": [
       "{'ID': '47',\n",
       " 'From': 'admissions@scmhrd.edu',\n",
       " 'Subject': 'Only 5 days left! A promising management career awaits! Register now\\r\\n for SCMHRD',\n",
       " 'Date': '2021-11-22T13:09:16+00:00'}"
      ]
     },
     "execution_count": 19,
     "metadata": {},
     "output_type": "execute_result"
    }
   ],
   "source": [
    "email_data['47']"
   ]
  },
  {
   "cell_type": "code",
   "execution_count": 18,
   "metadata": {},
   "outputs": [
    {
     "name": "stdout",
     "output_type": "stream",
     "text": [
      "\n",
      "\n",
      "\u001b[1m> Entering new AgentExecutor chain...\u001b[0m\n",
      "\u001b[32;1m\u001b[1;3mYes, it promtes SCMHRD.\n",
      "Action: delete_mail\n",
      "Action Input: 47\u001b[0m\u001b[36;1m\u001b[1;3mEmail with ID 47 deleted\u001b[0m\u001b[32;1m\u001b[1;3mI now know the final answer\n",
      "Final Answer: Deleted\u001b[0m\n",
      "\n",
      "\u001b[1m> Finished chain.\u001b[0m\n"
     ]
    },
    {
     "data": {
      "text/plain": [
       "{'input': 'subject of the mail is :Only 5 days left! A promising management career awaits! Register now\\r\\n for SCMHRD and email_id is :47',\n",
       " 'output': 'Deleted'}"
      ]
     },
     "execution_count": 18,
     "metadata": {},
     "output_type": "execute_result"
    }
   ],
   "source": [
    "agent_executor.invoke({\"input\": input_variable})"
   ]
  },
  {
   "cell_type": "code",
   "execution_count": 6,
   "metadata": {},
   "outputs": [
    {
     "name": "stdout",
     "output_type": "stream",
     "text": [
      "input_variables=['agent_scratchpad', 'input', 'tool_names', 'tools'] metadata={'lc_hub_owner': 'hwchase17', 'lc_hub_repo': 'react', 'lc_hub_commit_hash': 'd15fe3c426f1c4b3f37c9198853e4a86e20c425ca7f4752ec0c9b0e97ca7ea4d'} template='Answer the following questions as best you can. You have access to the following tools:\\n\\n{tools}\\n\\nUse the following format:\\n\\nQuestion: the input question you must answer\\nThought: you should always think about what to do\\nAction: the action to take, should be one of [{tool_names}]\\nAction Input: the input to the action\\nObservation: the result of the action\\n... (this Thought/Action/Action Input/Observation can repeat N times)\\nThought: I now know the final answer\\nFinal Answer: the final answer to the original input question\\n\\nBegin!\\n\\nQuestion: {input}\\nThought:{agent_scratchpad}'\n"
     ]
    }
   ],
   "source": [
    "# from langchain import hub\n",
    "# prompt = hub.pull(\"hwchase17/react\")\n",
    "# print(prompt)"
   ]
  },
  {
   "cell_type": "code",
   "execution_count": null,
   "metadata": {},
   "outputs": [],
   "source": []
  }
 ],
 "metadata": {
  "kernelspec": {
   "display_name": "base",
   "language": "python",
   "name": "python3"
  },
  "language_info": {
   "codemirror_mode": {
    "name": "ipython",
    "version": 3
   },
   "file_extension": ".py",
   "mimetype": "text/x-python",
   "name": "python",
   "nbconvert_exporter": "python",
   "pygments_lexer": "ipython3",
   "version": "3.11.5"
  },
  "orig_nbformat": 4
 },
 "nbformat": 4,
 "nbformat_minor": 2
}
